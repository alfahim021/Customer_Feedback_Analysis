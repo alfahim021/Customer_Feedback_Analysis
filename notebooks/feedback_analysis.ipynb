# feedback_analysis.ipynb

import pandas as pd
import re
import nltk
from nltk.corpus import stopwords
from nltk.stem import WordNetLemmatizer
from textblob import TextBlob
import matplotlib.pyplot as plt

nltk.download('stopwords')
nltk.download('punkt')
nltk.download('wordnet')

# Load the dataset 
df = pd.read_csv('data/raw/redmi6.csv', encoding='cp1252')

df.head()

feedback_col = 'Comments'

# Clean text function
stop_words = set(stopwords.words('english'))
lemmatizer = WordNetLemmatizer()

def clean_text(text):
    if pd.isnull(text):
        return ""
    text = text.lower()
    text = re.sub(r'http\S+|www\S+|https\S+', '', text)
    text = re.sub(r'[^a-z\s]', '', text)
    tokens = nltk.word_tokenize(text)
    tokens = [lemmatizer.lemmatize(word) for word in tokens if word not in stop_words]
    return " ".join(tokens)

# Apply cleaning
df['cleaned_review'] = df[feedback_col].apply(clean_text)

# Sentiment analysis function
def get_sentiment(text):
    if text == "":
        return "neutral"
    polarity = TextBlob(text).sentiment.polarity
    if polarity > 0.1:
        return "positive"
    elif polarity < -0.1:
        return "negative"
    else:
        return "neutral"

# Apply sentiment analysis
df['sentiment'] = df['cleaned_review'].apply(get_sentiment)

# Show sentiment distribution
print(df['sentiment'].value_counts())

# Visualize sentiment distribution
sentiment_counts = df['sentiment'].value_counts()
plt.figure(figsize=(6,6))
plt.pie(sentiment_counts, labels=sentiment_counts.index, autopct='%1.1f%%', startangle=140)
plt.title('Customer Feedback Sentiment Distribution')
plt.show()

df.to_csv('data/processed/customer_feedback_with_sentiments.csv', index=False)
df.to_excel('data/processed/customer_feedback_with_sentiments.xlsx', index=False)
